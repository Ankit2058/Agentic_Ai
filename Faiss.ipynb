{
 "cells": [
  {
   "cell_type": "code",
   "execution_count": 6,
   "id": "4556dce2",
   "metadata": {},
   "outputs": [
    {
     "name": "stderr",
     "output_type": "stream",
     "text": [
      "Device set to use cpu\n",
      "Device set to use cpu\n"
     ]
    },
    {
     "name": "stdout",
     "output_type": "stream",
     "text": [
      "\n",
      " Welcome to your AI Assistant, you can ask ay question, book an appointment, or request a call.\n"
     ]
    },
    {
     "name": "stderr",
     "output_type": "stream",
     "text": [
      "Both `max_new_tokens` (=256) and `max_length`(=256) seem to have been set. `max_new_tokens` will take precedence. Please refer to the documentation for more information. (https://huggingface.co/docs/transformers/main/en/main_classes/text_generation)\n"
     ]
    },
    {
     "name": "stdout",
     "output_type": "stream",
     "text": [
      " Answer: AI is used for fraud detection, algorithmic trading, and risk assessment\n"
     ]
    },
    {
     "name": "stderr",
     "output_type": "stream",
     "text": [
      "Both `max_new_tokens` (=256) and `max_length`(=256) seem to have been set. `max_new_tokens` will take precedence. Please refer to the documentation for more information. (https://huggingface.co/docs/transformers/main/en/main_classes/text_generation)\n"
     ]
    },
    {
     "name": "stdout",
     "output_type": "stream",
     "text": [
      " Answer: bad\n",
      "\n",
      " Let's schedule your appointment.\n",
      "Couldn't parse date. Try again.\n",
      "Couldn't parse date. Try again.\n",
      "Couldn't parse date. Try again.\n",
      "Couldn't parse date. Try again.\n",
      "\n",
      " Appointment booked!\n",
      " Date: 2025-07-25\n",
      " Name: ankit sapkota\n",
      " Phone: 9823456789\n",
      " Email: adsaa@af.com\n"
     ]
    },
    {
     "name": "stderr",
     "output_type": "stream",
     "text": [
      "Both `max_new_tokens` (=256) and `max_length`(=256) seem to have been set. `max_new_tokens` will take precedence. Please refer to the documentation for more information. (https://huggingface.co/docs/transformers/main/en/main_classes/text_generation)\n"
     ]
    },
    {
     "name": "stdout",
     "output_type": "stream",
     "text": [
      " Answer: AI has become a transformative force across various industries, from healthcare and finance to agriculture and education. Its ability to process massive amounts of data, identify patterns, and make intelligent predictions has revolutionized the way we interact with technology. One of the key branches of AI is machine learning, which allows systems to improve their performance over time without being explicitly programmed\n"
     ]
    }
   ],
   "source": [
    "import re\n",
    "import dateparser\n",
    "from transformers import pipeline\n",
    "from langchain_community.document_loaders import TextLoader\n",
    "from langchain.text_splitter import RecursiveCharacterTextSplitter\n",
    "from langchain.embeddings import HuggingFaceEmbeddings\n",
    "from langchain.vectorstores import FAISS\n",
    "\n",
    "# lets load the data\n",
    "loader = TextLoader(r\"C:\\Users\\User\\Desktop\\Faiss\\Faiss data.txt\", encoding=\"utf-8\")\n",
    "documents = loader.load()\n",
    "\n",
    "# split the documents into manageable chunks\n",
    "text_splitter = RecursiveCharacterTextSplitter(chunk_size=500, chunk_overlap=50)\n",
    "docs = text_splitter.split_documents(documents)\n",
    "\n",
    "#lets transfrom the chunks of text into meaningful embeddings\n",
    "embeddings = HuggingFaceEmbeddings(model_name=\"all-MiniLM-L6-v2\")\n",
    "#now we save the embeddings into a vector database\n",
    "vector_db = FAISS.from_documents(docs, embeddings)\n",
    "\n",
    "#pipeline for summerization and question answering\n",
    "summarizer = pipeline(\"summarization\", model=\"facebook/bart-large-cnn\")\n",
    "qa_model = pipeline(\"text2text-generation\", model=\"google/flan-t5-small\")\n",
    "\n",
    "#function to check call request in query\n",
    "def is_call_request(query):\n",
    "    return any(kw in query.lower() for kw in [\"call me\", \"contact me\", \"reach me\"])\n",
    "#function to check appointment request in query\n",
    "def is_appointment_request(query):\n",
    "    return any(kw in query.lower() for kw in [\"book\", \"appointment\", \"schedule\", \"meeting\"])\n",
    "\n",
    "#mail validation in format something + @ something + . + somthing\n",
    "def validate_email(email):\n",
    "    return re.match(r\"[^@]+@[^@]+\\.[^@]+\", email)\n",
    " #mail validation ^ means start $ means the end \\+ means + and ? at last says + can be optional and then \\d{7,15} numbers can be between 7 to 15\n",
    "def validate_phone(phone):\n",
    "    return re.match(r\"^\\+?\\d{7,15}$\", phone)\n",
    " \n",
    " #funntion to extract date from natural language, remember its a rule based parser, so it might not work for all cases\n",
    "def extract_date(text):\n",
    "    date = dateparser.parse(text, settings={\"PREFER_DATES_FROM\": \"future\"})\n",
    "    return date.strftime(\"%Y-%m-%d\") if date else None\n",
    "\n",
    "# user contact colletion\n",
    "def collect_user_info():\n",
    "    print(\"\\n Let's collect your contact info.\")\n",
    "    name = input(\" What's your name? \").strip()\n",
    "    while not name:\n",
    "        name = input(\"Please enter a valid name: \").strip()\n",
    "\n",
    "    phone = input(\" Your phone number? \").strip()\n",
    "    while not validate_phone(phone):\n",
    "        phone = input(\"Invalid phone number. Try again: \").strip()\n",
    "\n",
    "    email = input(\" Your email address? \").strip()\n",
    "    while not validate_email(email):\n",
    "        email = input(\"Invalid email. Try again: \").strip()\n",
    "\n",
    "    print(\"\\n Thank you! We will contact you soon.\")\n",
    "    print(f\" Name: {name}\\n Phone: {phone}\\n Email: {email}\")\n",
    "\n",
    "def collect_appointment_info():\n",
    "    print(\"\\n Let's schedule your appointment.\")\n",
    "    while True:\n",
    "        date_input = input(\"When would you like to book? (e.g., 'next Friday')\\n> \")\n",
    "        parsed = extract_date(date_input)\n",
    "        if parsed:\n",
    "            break\n",
    "        print(\"Couldn't parse date. Try again.\")\n",
    "\n",
    "    name = input(\" Your name? \").strip()\n",
    "    while not name:\n",
    "        name = input(\"Please enter a valid name: \").strip()\n",
    "\n",
    "    phone = input(\" Your phone number? \").strip()\n",
    "    while not validate_phone(phone):\n",
    "        phone = input(\"Invalid phone number. Try again: \").strip()\n",
    "\n",
    "    email = input(\" Your email address? \").strip()\n",
    "    while not validate_email(email):\n",
    "        email = input(\"Invalid email. Try again: \").strip()\n",
    "\n",
    "    print(\"\\n Appointment booked!\")\n",
    "    print(f\" Date: {parsed}\\n Name: {name}\\n Phone: {phone}\\n Email: {email}\")\n",
    "\n",
    "# Function to answer user queries based on the context with is the closest chunk to the query\n",
    "def answer_query(query):\n",
    "    relevant_docs = vector_db.similarity_search(query, k=3)\n",
    "    context = \"\\n\".join([doc.page_content for doc in relevant_docs])\n",
    "    prompt = f\"Answer the question based on the context below.\\n\\nContext:\\n{context}\\n\\nQuestion: {query}\"\n",
    "    result = qa_model(prompt, max_length=256, do_sample=False)\n",
    "    return result[0]['generated_text']\n",
    "\n",
    "# Here comes our chatbot loop\n",
    "print(\"\\n Welcome to your AI Assistant, you can ask ay question, book an appointment, or request a call.\")\n",
    "while True:\n",
    "    query = input(\"\\n Your input (or 'exit'): \")\n",
    "    if query.lower() == \"exit\":\n",
    "        break\n",
    "\n",
    "    if is_call_request(query):\n",
    "        collect_user_info()\n",
    "        continue\n",
    "\n",
    "    if is_appointment_request(query):\n",
    "        collect_appointment_info()\n",
    "        continue\n",
    "\n",
    "    answer = answer_query(query)\n",
    "    print(\" Answer:\", answer)\n"
   ]
  },
  {
   "cell_type": "code",
   "execution_count": null,
   "id": "2e00ff4f",
   "metadata": {},
   "outputs": [],
   "source": []
  }
 ],
 "metadata": {
  "kernelspec": {
   "display_name": "faiss-env",
   "language": "python",
   "name": "python3"
  },
  "language_info": {
   "codemirror_mode": {
    "name": "ipython",
    "version": 3
   },
   "file_extension": ".py",
   "mimetype": "text/x-python",
   "name": "python",
   "nbconvert_exporter": "python",
   "pygments_lexer": "ipython3",
   "version": "3.10.18"
  }
 },
 "nbformat": 4,
 "nbformat_minor": 5
}
